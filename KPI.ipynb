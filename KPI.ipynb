{
  "cells": [
    {
      "cell_type": "code",
      "execution_count": 1,
      "metadata": {
        "id": "updhLCBpXCcx"
      },
      "outputs": [],
      "source": [
        "import pandas as pd\n",
        "from datetime import datetime\n",
        "from pprint import pprint"
      ]
    },
    {
      "cell_type": "markdown",
      "metadata": {
        "id": "rmPhPdtYYFNT"
      },
      "source": [
        "ファイルパスと集計期間の設定"
      ]
    },
    {
      "cell_type": "code",
      "execution_count": 2,
      "metadata": {
        "id": "X1pBqrYkX_eb",
        "tags": [
          "parameters"
        ]
      },
      "outputs": [],
      "source": [
        "customer_file = 'data/customer_data.csv'\n",
        "purchase_file = 'data/purchase_data.csv'\n",
        "sales_file = 'data/sales_data.csv'\n",
        "start_date_str = '2025-01-01'\n",
        "end_date_str = '2025-12-31'"
      ]
    },
    {
      "cell_type": "code",
      "execution_count": 3,
      "metadata": {},
      "outputs": [],
      "source": [
        "start_date = datetime.strptime(start_date_str, \"%Y-%m-%d\").date() if start_date_str else None\n",
        "end_date = datetime.strptime(end_date_str, \"%Y-%m-%d\").date() if end_date_str else None"
      ]
    },
    {
      "cell_type": "markdown",
      "metadata": {
        "id": "SOgH8IcIYLeO"
      },
      "source": [
        "データの読み込み"
      ]
    },
    {
      "cell_type": "code",
      "execution_count": 4,
      "metadata": {
        "id": "p08Xiq_tYMRc"
      },
      "outputs": [
        {
          "name": "stdout",
          "output_type": "stream",
          "text": [
            "'data/customer_data.csv' を読み込みました。\n",
            "'data/purchase_data.csv' を読み込みました。\n",
            "'data/sales_data.csv' を読み込みました。\n"
          ]
        }
      ],
      "source": [
        "try:\n",
        "    customer_df = pd.read_csv(customer_file)\n",
        "    print(f\"'{customer_file}' を読み込みました。\")\n",
        "except FileNotFoundError:\n",
        "    print(f\"エラー: ファイル '{customer_file}' が見つかりません。\")\n",
        "    customer_df = None\n",
        "except Exception as e:\n",
        "    print(f\"エラー: '{customer_file}' の読み込み中に予期しないエラーが発生しました: {e}\")\n",
        "    customer_df = None\n",
        "\n",
        "try:\n",
        "    purchase_df = pd.read_csv(purchase_file)\n",
        "    print(f\"'{purchase_file}' を読み込みました。\")\n",
        "except FileNotFoundError:\n",
        "    print(f\"エラー: ファイル '{purchase_file}' が見つかりません。\")\n",
        "    purchase_df = None\n",
        "except Exception as e:\n",
        "    print(f\"エラー: '{purchase_file}' の読み込み中に予期しないエラーが発生しました: {e}\")\n",
        "    purchase_df = None\n",
        "\n",
        "try:\n",
        "    sales_df = pd.read_csv(sales_file)\n",
        "    print(f\"'{sales_file}' を読み込みました。\")\n",
        "except FileNotFoundError:\n",
        "    print(f\"エラー: ファイル '{sales_file}' が見つかりません。\")\n",
        "    sales_df = None\n",
        "except Exception as e:\n",
        "    print(f\"エラー: '{sales_file}' の読み込み中に予期しないエラーが発生しました: {e}\")\n",
        "    sales_df = None"
      ]
    },
    {
      "cell_type": "markdown",
      "metadata": {
        "id": "OlxW7pxyYVwD"
      },
      "source": [
        "売上データのKPI算出"
      ]
    },
    {
      "cell_type": "code",
      "execution_count": 5,
      "metadata": {
        "id": "jhPv1FMeYX7_"
      },
      "outputs": [
        {
          "name": "stdout",
          "output_type": "stream",
          "text": [
            "売上KPIを算出します。\n"
          ]
        }
      ],
      "source": [
        "try:\n",
        "    if sales_df is not None and not sales_df.empty:\n",
        "        print(\"売上KPIを算出します。\")\n",
        "        df_sales = sales_df.copy()\n",
        "\n",
        "        if 'sales_date' in df_sales.columns:\n",
        "            df_sales['sales_date'] = pd.to_datetime(df_sales['sales_date']).dt.date\n",
        "            if start_date:\n",
        "                df_sales = df_sales[df_sales['sales_date'] >= start_date]\n",
        "            if end_date:\n",
        "                df_sales = df_sales[df_sales['sales_date'] <= end_date]\n",
        "\n",
        "            total_revenue = int(df_sales['total_amount'].sum())\n",
        "            daily_revenue_df = df_sales.groupby('sales_date')['total_amount'].sum().astype(int)\n",
        "            daily_revenue_df.index = [i.strftime(\"%Y-%m-%d\") for i in daily_revenue_df.index]\n",
        "            daily_revenue = daily_revenue_df.to_dict()\n",
        "\n",
        "            member_sales = int(df_sales[df_sales['customer_id'].notna()]['total_amount'].sum())\n",
        "\n",
        "            sales_kpis = {\n",
        "                \"total_revenue\": total_revenue,\n",
        "                \"daily_revenue\": daily_revenue,\n",
        "                \"member_sales\": member_sales,\n",
        "            }\n",
        "        else:\n",
        "            print(\"売上データに 'sales_date' 列が存在しません。\")\n",
        "    else:\n",
        "        print(\"売上データが空です。売上KPIの算出をスキップします。\")\n",
        "except Exception as e:\n",
        "    print(f\"エラー: 売上KPIの算出中に予期しないエラーが発生しました: {e}\")\n",
        "    sales_kpis = {}"
      ]
    },
    {
      "cell_type": "markdown",
      "metadata": {
        "id": "UEcEP8F8YeGh"
      },
      "source": [
        "顧客データのKPI算出"
      ]
    },
    {
      "cell_type": "code",
      "execution_count": 6,
      "metadata": {
        "id": "3tWdyo8wYhUj"
      },
      "outputs": [
        {
          "name": "stdout",
          "output_type": "stream",
          "text": [
            "顧客KPIを算出します。\n"
          ]
        }
      ],
      "source": [
        "try:\n",
        "    if (\n",
        "        customer_df is not None\n",
        "        and not customer_df.empty\n",
        "        and sales_df is not None\n",
        "        and not sales_df.empty\n",
        "        and 'customer_id' in sales_df.columns\n",
        "        and 'sales_date' in sales_df.columns\n",
        "    ):\n",
        "        print(\"顧客KPIを算出します。\")\n",
        "        df_sales_customer = sales_df.copy()\n",
        "        df_sales_customer['sales_date'] = pd.to_datetime(df_sales_customer['sales_date']).dt.date\n",
        "        if start_date:\n",
        "            df_sales_customer = df_sales_customer[df_sales_customer['sales_date'] >= start_date]\n",
        "        if end_date:\n",
        "            df_sales_customer = df_sales_customer[df_sales_customer['sales_date'] <= end_date]\n",
        "\n",
        "        if not df_sales_customer.empty:\n",
        "            repeat_customers = int(\n",
        "                df_sales_customer\n",
        "                .groupby('customer_id')\n",
        "                ['sales_date']\n",
        "                .nunique()\n",
        "                [df_sales_customer.groupby('customer_id')['sales_date'].nunique() > 1]\n",
        "                .count()\n",
        "            )\n",
        "        else:\n",
        "            repeat_customers = 0\n",
        "\n",
        "        if not df_sales_customer.empty and df_sales_customer['customer_id'].nunique() > 0:\n",
        "            average_purchase_frequency = float(df_sales_customer.groupby('customer_id')['sales_date'].nunique().mean())\n",
        "        else:\n",
        "            average_purchase_frequency = 0\n",
        "\n",
        "        customer_kpis = {\n",
        "            \"repeat_customers\": repeat_customers,\n",
        "            \"average_purchase_frequency\": average_purchase_frequency\n",
        "        }\n",
        "    else:\n",
        "        print(\"顧客データまたは売上データが不十分なため、顧客KPIの算出をスキップします。\")\n",
        "except Exception as e:\n",
        "    print(f\"エラー: 顧客KPIの算出中に予期しないエラーが発生しました: {e}\")\n",
        "    customer_kpis = {}"
      ]
    },
    {
      "cell_type": "markdown",
      "metadata": {
        "id": "fy6SoY78Yj5v"
      },
      "source": [
        "仕入れデータのKPI算出"
      ]
    },
    {
      "cell_type": "code",
      "execution_count": 7,
      "metadata": {
        "id": "pBgIdiiAYq4f"
      },
      "outputs": [
        {
          "name": "stdout",
          "output_type": "stream",
          "text": [
            "仕入れKPIを算出します。\n"
          ]
        }
      ],
      "source": [
        "try:\n",
        "    if purchase_df is not None and not purchase_df.empty:\n",
        "        print(\"仕入れKPIを算出します。\")\n",
        "        df_purchase = purchase_df.copy()\n",
        "\n",
        "        if 'purchase_date' in df_purchase.columns:\n",
        "            df_purchase['purchase_date'] = pd.to_datetime(df_purchase['purchase_date']).dt.date\n",
        "            if start_date:\n",
        "                df_purchase = df_purchase[df_purchase['purchase_date'] >= start_date]\n",
        "            if end_date:\n",
        "                df_purchase = df_purchase[df_purchase['purchase_date'] <= end_date]\n",
        "\n",
        "            total_purchase_amount = int((df_purchase['quantity'] * df_purchase['unit_price']).sum())\n",
        "            product_purchase_amount = (\n",
        "                df_purchase\n",
        "                .groupby('item_name')\n",
        "                [['quantity', 'unit_price']]\n",
        "                .apply(lambda x: (x['quantity'] * x['unit_price']).sum())\n",
        "                .astype(int)\n",
        "                .to_dict()\n",
        "            )\n",
        "\n",
        "            purchase_kpis = {\n",
        "                \"total_purchase_amount\": total_purchase_amount,\n",
        "                \"product_purchase_amount\": product_purchase_amount,\n",
        "            }\n",
        "        else:\n",
        "            print(\"仕入れデータに 'purchase_date' 列が存在しません。\")\n",
        "    else:\n",
        "        print(\"仕入れデータが空です。仕入れKPIの算出をスキップします。\")\n",
        "except Exception as e:\n",
        "    print(f\"エラー: 仕入れKPIの算出中に予期しないエラーが発生しました: {e}\")\n",
        "    purchase_kpis = {}"
      ]
    },
    {
      "cell_type": "markdown",
      "metadata": {
        "id": "Qy4MJI_3Y1H8"
      },
      "source": [
        "分析結果の出力"
      ]
    },
    {
      "cell_type": "code",
      "execution_count": 8,
      "metadata": {
        "id": "jUaAObEDYyQi"
      },
      "outputs": [
        {
          "name": "stdout",
          "output_type": "stream",
          "text": [
            "--- 分析結果 ---\n",
            "{'customer_kpis': {'average_purchase_frequency': 1.0, 'repeat_customers': 0},\n",
            " 'purchase_kpis': {'product_purchase_amount': {'みかん': 3600,\n",
            "                                               'りんご': 5000,\n",
            "                                               'バナナ': 2400},\n",
            "                   'total_purchase_amount': 11000},\n",
            " 'sales_kpis': {'daily_revenue': {'2025-07-04': 924, '2025-07-05': 462},\n",
            "                'member_sales': 1056,\n",
            "                'total_revenue': 1386}}\n",
            "データ分析を完了しました。\n"
          ]
        }
      ],
      "source": [
        "try:\n",
        "    results = {\n",
        "        \"sales_kpis\": sales_kpis,\n",
        "        \"customer_kpis\": customer_kpis,\n",
        "        \"purchase_kpis\": purchase_kpis\n",
        "    }\n",
        "    print(\"--- 分析結果 ---\")\n",
        "    pprint(results)\n",
        "    print(\"データ分析を完了しました。\")\n",
        "except Exception as e:\n",
        "    print(f\"エラー: 分析結果の出力中に予期しないエラーが発生しました: {e}\")"
      ]
    }
  ],
  "metadata": {
    "colab": {
      "provenance": []
    },
    "kernelspec": {
      "display_name": ".venv",
      "language": "python",
      "name": "python3"
    },
    "language_info": {
      "name": "python",
      "version": "3.13.2"
    }
  },
  "nbformat": 4,
  "nbformat_minor": 0
}
