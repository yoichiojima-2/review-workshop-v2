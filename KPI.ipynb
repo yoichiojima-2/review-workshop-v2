{
  "cells": [
    {
      "cell_type": "markdown",
      "metadata": {},
      "source": [
        "# KPI.ipynb\n",
        "飲食店の運営に関する会員顧客データ, 仕入れデータ, 売上データを読み込み, 指定された期間における主要なKPIを算出する\n",
        "parameters:\n",
        "- start_date_str (str (YYYY-MM-DD))\n",
        "- end_date_str (str (YYYY-MM-DD))"
      ]
    },
    {
      "cell_type": "code",
      "execution_count": 1,
      "metadata": {
        "id": "updhLCBpXCcx"
      },
      "outputs": [],
      "source": [
        "import pandas as pd\n",
        "from datetime import datetime, date\n",
        "from pprint import pprint"
      ]
    },
    {
      "cell_type": "markdown",
      "metadata": {
        "id": "rmPhPdtYYFNT"
      },
      "source": [
        "ファイルパスと集計期間の設定"
      ]
    },
    {
      "cell_type": "code",
      "execution_count": 2,
      "metadata": {
        "id": "X1pBqrYkX_eb",
        "tags": [
          "parameters"
        ]
      },
      "outputs": [],
      "source": [
        "# parameters\n",
        "start_date_str = \"2025-01-01\"\n",
        "end_date_str = \"2025-12-31\""
      ]
    },
    {
      "cell_type": "code",
      "execution_count": 3,
      "metadata": {},
      "outputs": [],
      "source": [
        "# グローバル変数は大文字で定義する\n",
        "PURCHASE_PATH = \"data/purchase_data.csv\"\n",
        "SALES_PATH = \"data/sales_data.csv\"\n",
        "\n",
        "START_DATE = datetime.strptime(start_date_str, \"%Y-%m-%d\").date() if start_date_str else None\n",
        "END_DATE = datetime.strptime(end_date_str, \"%Y-%m-%d\").date() if end_date_str else None"
      ]
    },
    {
      "cell_type": "markdown",
      "metadata": {
        "id": "SOgH8IcIYLeO"
      },
      "source": [
        "データの読み込み"
      ]
    },
    {
      "cell_type": "code",
      "execution_count": 4,
      "metadata": {
        "id": "p08Xiq_tYMRc"
      },
      "outputs": [],
      "source": [
        "def read_csv(path: str) -> pd.DataFrame | None:\n",
        "    \"\"\"\n",
        "    csvファイルを読み込む. データが存在しない場合はNoneを返す\n",
        "    args:\n",
        "        path (str): csvファイルのパス\n",
        "    returns:\n",
        "        pd.DataFrame | None: 読み込んだDataFrameまたはNone\n",
        "    \"\"\"\n",
        "    try:\n",
        "        df = pd.read_csv(path)\n",
        "        print(f\"'{path}' を読み込みました。\")\n",
        "    except FileNotFoundError:\n",
        "        print(f\"エラー: ファイル '{path}' が見つかりません。\")\n",
        "        df = None\n",
        "    except Exception as e:\n",
        "        print(f\"エラー: '{path}' の読み込み中に予期しないエラーが発生しました: {e}\")\n",
        "        df = None\n",
        "    return df\n"
      ]
    },
    {
      "cell_type": "code",
      "execution_count": 5,
      "metadata": {},
      "outputs": [],
      "source": [
        "def filter_by_date(df: pd.DataFrame, date_col: str, start_date: date | None, end_date: date | None) -> pd.DataFrame:\n",
        "    \"\"\"\n",
        "    dataframeを日付で絞り込む\n",
        "    args:\n",
        "        df: pd.DataFrame\n",
        "        date_col (str): 日付列の名前\n",
        "        start_date (date | None): 開始日\n",
        "        end_date (date | None): 終了日\n",
        "    returns:\n",
        "        pd.DataFrame: 日付で絞り込まれたDataFrame\n",
        "    \"\"\"\n",
        "    df[date_col] = pd.to_datetime(df[date_col]).dt.date\n",
        "    if start_date:\n",
        "        df = df[df[date_col] >= start_date]\n",
        "    if end_date:\n",
        "        df = df[df[date_col] <= end_date]\n",
        "    return df"
      ]
    },
    {
      "cell_type": "markdown",
      "metadata": {
        "id": "OlxW7pxyYVwD"
      },
      "source": [
        "売上データのKPI算出"
      ]
    },
    {
      "cell_type": "code",
      "execution_count": 6,
      "metadata": {
        "id": "jhPv1FMeYX7_"
      },
      "outputs": [],
      "source": [
        "def calc_sales_kpi(sales_df: pd.DataFrame) -> dict:\n",
        "    \"\"\"\n",
        "    売上KPIを算出する\n",
        "    - 総売上高\n",
        "    - 商品別売上高\n",
        "    - 日別売上高\n",
        "\n",
        "    args:\n",
        "        sales_df (pd.DataFrame): 売上データ\n",
        "    returns:\n",
        "        dict: 売上KPI\n",
        "    \"\"\"\n",
        "    # [START: 入力バリデーション: 早く関数から返してネストを浅くする]\n",
        "    if sales_df is None or sales_df.empty:\n",
        "        print(\"売上データが空です。売上KPIの算出をスキップします。\")\n",
        "        return {}\n",
        "\n",
        "    if \"sales_date\" not in sales_df.columns:\n",
        "        print(\"売上データに 'sales_date' 列が存在しません。\")\n",
        "        return {}\n",
        "    # [END: 入力バリデーション]\n",
        "\n",
        "    try:\n",
        "        print(\"売上KPIを算出します。\")\n",
        "        # 明確な変数名に\n",
        "        df_filtered = filter_by_date(sales_df.copy(), \"sales_date\", START_DATE, END_DATE)\n",
        "\n",
        "        # 総売上高を算出\n",
        "        total_revenue = int(df_filtered[\"total_amount\"].sum())\n",
        "\n",
        "        # 商品別売上高を算出\n",
        "        daily_revenue_df = df_filtered.groupby(\"sales_date\")[\"total_amount\"].sum().astype(int)\n",
        "        daily_revenue_df.index = [i.strftime(\"%Y-%m-%d\") for i in daily_revenue_df.index]\n",
        "        daily_revenue = daily_revenue_df.to_dict()\n",
        "\n",
        "        # 会員売上高を算出\n",
        "        member_sales = int(df_filtered[df_filtered[\"customer_id\"].notna()][\"total_amount\"].sum())\n",
        "\n",
        "        return {\n",
        "            \"total_revenue\": total_revenue,\n",
        "            \"daily_revenue\": daily_revenue,\n",
        "            \"member_sales\": member_sales,\n",
        "        }\n",
        "    except Exception as e:\n",
        "        print(f\"エラー: 売上KPIの算出中に予期しないエラーが発生しました: {e}\")\n",
        "        return {}\n"
      ]
    },
    {
      "cell_type": "markdown",
      "metadata": {
        "id": "UEcEP8F8YeGh"
      },
      "source": [
        "顧客データのKPI算出"
      ]
    },
    {
      "cell_type": "code",
      "execution_count": 7,
      "metadata": {
        "id": "3tWdyo8wYhUj"
      },
      "outputs": [],
      "source": [
        "def calc_customer_kpis(sales_df: pd.DataFrame) -> dict:\n",
        "    \"\"\"\n",
        "    顧客KPIを算出する\n",
        "    - リピート会員数\n",
        "    - 平均購入頻度\n",
        "\n",
        "    args:\n",
        "        customer_df (pd.DataFrame): 顧客データ\n",
        "        sales_df (pd.DataFrame): 売上データ\n",
        "    returns:\n",
        "        dict: 顧客KPI\n",
        "    \"\"\"\n",
        "    # [START: 入力バリデーション: 早く関数から返してネストを浅くする]\n",
        "    if sales_df is None or sales_df.empty:\n",
        "        print(\"売上データが空です。顧客KPIの算出をスキップします。\")\n",
        "        return {}\n",
        "\n",
        "    if \"customer_id\" not in sales_df.columns or \"sales_date\" not in sales_df.columns:\n",
        "        print(\"売上データに 'customer_id' または 'sales_date' 列が存在しません。\")\n",
        "        return {}\n",
        "    # [END: 入力バリデーション]\n",
        "\n",
        "    try:\n",
        "        print(\"顧客KPIを算出します。\")\n",
        "        df_filtered = filter_by_date(sales_df.copy(), \"sales_date\", START_DATE, END_DATE)\n",
        "\n",
        "        # リピート会員数を算出\n",
        "        # if notとせずシンプルに\n",
        "        if df_filtered.empty:\n",
        "            repeat_customers = 0\n",
        "        else:\n",
        "            repeat_customers = int(\n",
        "                df_filtered.groupby(\"customer_id\")[\"sales_date\"]\n",
        "                .nunique()[df_filtered.groupby(\"customer_id\")[\"sales_date\"].nunique() > 1]\n",
        "                .count()\n",
        "            )\n",
        "\n",
        "        # 平均購入頻度を算出\n",
        "        # if notとせずシンプルに\n",
        "        if df_filtered.empty or df_filtered[\"customer_id\"].nunique() == 0:\n",
        "            average_purchase_frequency = 0\n",
        "        else:\n",
        "            average_purchase_frequency = float(df_filtered.groupby(\"customer_id\")[\"sales_date\"].nunique().mean())\n",
        "\n",
        "        return {\n",
        "            \"repeat_customers\": repeat_customers,\n",
        "            \"average_purchase_frequency\": average_purchase_frequency,\n",
        "        }\n",
        "    except Exception as e:\n",
        "        print(f\"エラー: 顧客KPIの算出中に予期しないエラーが発生しました: {e}\")\n",
        "        return {}"
      ]
    },
    {
      "cell_type": "markdown",
      "metadata": {
        "id": "fy6SoY78Yj5v"
      },
      "source": [
        "仕入れデータのKPI算出"
      ]
    },
    {
      "cell_type": "code",
      "execution_count": 8,
      "metadata": {
        "id": "pBgIdiiAYq4f"
      },
      "outputs": [],
      "source": [
        "def calc_purchase_kpis(purchase_df: pd.DataFrame) -> dict:\n",
        "    \"\"\"\n",
        "    仕入れKPIを算出する\n",
        "    - 総仕入れ金額\n",
        "    - 商品別仕入れ金額\n",
        "    args:\n",
        "        purchase_df (pd.DataFrame): 仕入れデータ\n",
        "    returns:\n",
        "        dict: 仕入れKPI\n",
        "    \"\"\"\n",
        "    # [START: 入力バリデーション: 早く関数から返してネストを浅くする]\n",
        "    if purchase_df is None or purchase_df.empty:\n",
        "        print(\"仕入れデータが空です。仕入れKPIの算出をスキップします。\")\n",
        "        return {}\n",
        "\n",
        "    if \"purchase_date\" not in purchase_df.columns:\n",
        "        print(\"仕入れデータに 'purchase_date' 列が存在しません。\")\n",
        "        return {}\n",
        "    # [END: 入力バリデーション]\n",
        "\n",
        "    try:\n",
        "        print(\"仕入れKPIを算出します。\")\n",
        "        df_filtered = filter_by_date(purchase_df.copy(), \"purchase_date\", START_DATE, END_DATE)\n",
        "\n",
        "        # 総仕入れ金額を算出\n",
        "        total_purchase_amount = int((df_filtered[\"quantity\"] * df_filtered[\"unit_price\"]).sum())\n",
        "\n",
        "        # 商品別仕入れ金額を算出\n",
        "        product_purchase_amount = (\n",
        "            df_filtered.groupby(\"item_name\")[[\"quantity\", \"unit_price\"]]\n",
        "            .apply(lambda x: (x[\"quantity\"] * x[\"unit_price\"]).sum())\n",
        "            .astype(int)\n",
        "            .to_dict()\n",
        "        )\n",
        "\n",
        "        return {\n",
        "            \"total_purchase_amount\": total_purchase_amount,\n",
        "            \"product_purchase_amount\": product_purchase_amount,\n",
        "        }\n",
        "\n",
        "    except Exception as e:\n",
        "        print(f\"エラー: 仕入れKPIの算出中に予期しないエラーが発生しました: {e}\")\n",
        "        return {}"
      ]
    },
    {
      "cell_type": "markdown",
      "metadata": {
        "id": "Qy4MJI_3Y1H8"
      },
      "source": [
        "分析結果の出力"
      ]
    },
    {
      "cell_type": "code",
      "execution_count": 9,
      "metadata": {},
      "outputs": [],
      "source": [
        "def print_result(sales_kpis: dict, customer_kpis: dict, purchase_kpis: dict) -> None:\n",
        "    \"\"\"\n",
        "    分析結果を出力する\n",
        "    args:\n",
        "        sales_kpis (dict): 売上KPI\n",
        "        customer_kpis (dict): 顧客KPI\n",
        "        purchase_kpis (dict): 仕入れKPI\n",
        "    \"\"\"\n",
        "    try:\n",
        "        results = {\n",
        "            \"sales_kpis\": sales_kpis,\n",
        "            \"customer_kpis\": customer_kpis,\n",
        "            \"purchase_kpis\": purchase_kpis,\n",
        "        }\n",
        "        print(\"--- 分析結果 ---\")\n",
        "        pprint(results)\n",
        "        print(\"データ分析を完了しました。\")\n",
        "    except Exception as e:\n",
        "        print(f\"エラー: 分析結果の出力中に予期しないエラーが発生しました: {e}\")"
      ]
    },
    {
      "cell_type": "code",
      "execution_count": 10,
      "metadata": {},
      "outputs": [],
      "source": [
        "def main():\n",
        "    try:\n",
        "        # データ読み込み\n",
        "        purchase_df = read_csv(PURCHASE_PATH)\n",
        "        sales_df = read_csv(SALES_PATH)\n",
        "\n",
        "        # KPI算出\n",
        "        sales_kpis = calc_sales_kpi(sales_df)\n",
        "        customer_kpis = calc_customer_kpis(sales_df)\n",
        "        purchase_kpis = calc_purchase_kpis(purchase_df)\n",
        "\n",
        "        # 結果出力\n",
        "        print_result(sales_kpis, customer_kpis, purchase_kpis)\n",
        "\n",
        "    except Exception as e:\n",
        "        print(f\"エラー: メイン処理中に予期しないエラーが発生しました: {e}\")"
      ]
    },
    {
      "cell_type": "code",
      "execution_count": 11,
      "metadata": {},
      "outputs": [
        {
          "name": "stdout",
          "output_type": "stream",
          "text": [
            "'data/purchase_data.csv' を読み込みました。\n",
            "'data/sales_data.csv' を読み込みました。\n",
            "売上KPIを算出します。\n",
            "顧客KPIを算出します。\n",
            "仕入れKPIを算出します。\n",
            "--- 分析結果 ---\n",
            "{'customer_kpis': {'average_purchase_frequency': 1.0, 'repeat_customers': 0},\n",
            " 'purchase_kpis': {'product_purchase_amount': {'みかん': 3600,\n",
            "                                               'りんご': 5000,\n",
            "                                               'バナナ': 2400},\n",
            "                   'total_purchase_amount': 11000},\n",
            " 'sales_kpis': {'daily_revenue': {'2025-07-04': 924, '2025-07-05': 462},\n",
            "                'member_sales': 1056,\n",
            "                'total_revenue': 1386}}\n",
            "データ分析を完了しました。\n"
          ]
        }
      ],
      "source": [
        "main()"
      ]
    }
  ],
  "metadata": {
    "colab": {
      "provenance": []
    },
    "kernelspec": {
      "display_name": ".venv",
      "language": "python",
      "name": "python3"
    },
    "language_info": {
      "codemirror_mode": {
        "name": "ipython",
        "version": 3
      },
      "file_extension": ".py",
      "mimetype": "text/x-python",
      "name": "python",
      "nbconvert_exporter": "python",
      "pygments_lexer": "ipython3",
      "version": "3.13.1"
    }
  },
  "nbformat": 4,
  "nbformat_minor": 0
}
